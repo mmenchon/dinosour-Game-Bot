{
  "nbformat": 4,
  "nbformat_minor": 0,
  "metadata": {
    "colab": {
      "name": "tpe-teoinfo-2020.ipynb",
      "provenance": [],
      "authorship_tag": "ABX9TyOPQghu3+s1wrv6uhD0vofw",
      "include_colab_link": true
    },
    "kernelspec": {
      "name": "python3",
      "display_name": "Python 3"
    }
  },
  "cells": [
    {
      "cell_type": "markdown",
      "metadata": {
        "id": "view-in-github",
        "colab_type": "text"
      },
      "source": [
        "<a href=\"https://colab.research.google.com/github/mmenchon/dinosour-Game-Bot/blob/master/tpe_teoinfo_2020.ipynb\" target=\"_parent\"><img src=\"https://colab.research.google.com/assets/colab-badge.svg\" alt=\"Open In Colab\"/></a>"
      ]
    },
    {
      "cell_type": "code",
      "metadata": {
        "id": "MK2WtJZ2UX9H",
        "colab_type": "code",
        "colab": {}
      },
      "source": [
        "import numpy as np\n",
        "import cv2 as cv\n",
        "from matplotlib import pyplot as plt\n",
        "\n",
        "imgWillOriginal = cv.imread(\"ImagenesWill/Will(Original).bmp\")\n",
        "imgWill1 = cv.imread(\"ImagenesWill/Will_1.bmp\")\n",
        "imgWill2 = cv.imread(\"ImagenesWill/Will_2.bmp\")\n",
        "imgWill3 = cv.imread(\"ImagenesWill/Will_3.bmp\")\n",
        "imgWill4 = cv.imread(\"ImagenesWill/Will_4.bmp\")\n",
        "imgWill5 = cv.imread(\"ImagenesWill/Will_5.bmp\")\n",
        "imgWillCanal2 = cv.imread(\"ImagenesWill/Will_Canal2.bmp\")\n",
        "imgWillCanal8 = cv.imread(\"ImagenesWill/Will_Canal8.bmp\")\n",
        "imgWillCanal10 = cv.imread(\"ImagenesWill/Will_Canal10.bmp\")\n",
        "imgWillEj2 = cv.imread(\"ImagenesWill/Will_ej2.bmp\")\n",
        "\n",
        "# Genera un arreglo de 256 con la cantidad de veces que aparece ese color en la imagen\n",
        "def obtener_ocurrencia_pixeles(imagen):\n",
        "    result = [0] * 256\n",
        "    for i in range(imagen.shape[0]):\n",
        "        for j in range(imagen.shape[1]):\n",
        "            result[imagen[i,j,0]] += 1\n",
        "\n",
        "    return result\n",
        "\n",
        "#Genera el grafico del histograma de una imagen\n",
        "def obtener_histograma(imagen):\n",
        "    color = ('b','g','r')\n",
        "    for i,col in enumerate(color):\n",
        "        histr = cv.calcHist([imagen],[i],None,[256],[0,256])\n",
        "        plt.plot(histr,color = col)\n",
        "        plt.xlim([0,256])\n",
        "    return plt\n",
        "print (imgWillOriginal)\n",
        "print(obtener_ocurrencia_pixeles(imgWillOriginal))\n",
        "print(obtener_ocurrencia_pixeles(imgWill5))\n",
        "\n",
        "hist = obtener_histograma(imgWillOriginal)\n",
        "hist.show()\n",
        "\n",
        "his2 = obtener_histograma(imgWill5)\n",
        "his2.show()\n"
      ],
      "execution_count": 0,
      "outputs": []
    }
  ]
}